{
 "cells": [
  {
   "cell_type": "code",
   "execution_count": 1,
   "metadata": {},
   "outputs": [
    {
     "name": "stdout",
     "output_type": "stream",
     "text": [
      "590.0123333333333\n",
      "34.689989028216466\n"
     ]
    }
   ],
   "source": [
    "from scraper import Line\n",
    "\n",
    "eta_one_lambda_zero_point_one = Line(\n",
    "    run_names=[\n",
    "        \"vocal-eon-1296\",\n",
    "        \"soft-cloud-1316\",\n",
    "        \"polished-haze-1325\",\n",
    "    ],\n",
    "    x_quantity=\"_step\",\n",
    "    y_quantity=\"eprew\",\n",
    "    color=\"blue\",\n",
    ")\n",
    "max_value, max_std = eta_one_lambda_zero_point_one.get_max_value_in_range(0, 1.48e6)\n",
    "print(max_value)\n",
    "print(max_std)"
   ]
  },
  {
   "cell_type": "code",
   "execution_count": 3,
   "metadata": {},
   "outputs": [
    {
     "name": "stdout",
     "output_type": "stream",
     "text": [
      "728.0800833333333\n",
      "152.49883982994845\n"
     ]
    }
   ],
   "source": [
    "eta_one_lambda_one = Line(\n",
    "    run_names=[\n",
    "        \"azure-voice-1299\",\n",
    "        \"dauntless-breeze-1317\",\n",
    "        \"super-fog-1326\",    \n",
    "    ],\n",
    "    x_quantity=\"_step\",\n",
    "    y_quantity=\"eprew\",\n",
    "    color=\"blue\",\n",
    ")\n",
    "max_value, max_std = eta_one_lambda_one.get_max_value_in_range(0, 1.48e6)\n",
    "print(max_value)\n",
    "print(max_std)"
   ]
  },
  {
   "cell_type": "code",
   "execution_count": 5,
   "metadata": {},
   "outputs": [
    {
     "name": "stdout",
     "output_type": "stream",
     "text": [
      "0.0\n",
      "0.0\n"
     ]
    }
   ],
   "source": [
    "eta_one_lambda_ten = Line(\n",
    "    run_names=[\n",
    "        \"jolly-monkey-1301\",\n",
    "        \"proud-valley-1318\",\n",
    "        \"cosmic-fog-1327\",    \n",
    "    ],\n",
    "    x_quantity=\"_step\",\n",
    "    y_quantity=\"eprew\",\n",
    "    color=\"blue\",\n",
    ")\n",
    "max_value, max_std = eta_one_lambda_ten.get_max_value_in_range(0, 1.48e6)\n",
    "print(max_value)\n",
    "print(max_std)"
   ]
  },
  {
   "cell_type": "code",
   "execution_count": 7,
   "metadata": {},
   "outputs": [
    {
     "name": "stdout",
     "output_type": "stream",
     "text": [
      "569.9094166666667\n",
      "72.7765365027329\n"
     ]
    }
   ],
   "source": [
    "eta_two_lambda_zero_point_one = Line(\n",
    "    run_names=[\n",
    "        \"copper-plant-1305\",\n",
    "        \"zesty-microwave-1319\",\n",
    "        \"serene-darkness-1329\",\n",
    "    ],\n",
    "    x_quantity=\"_step\",\n",
    "    y_quantity=\"eprew\",\n",
    "    color=\"blue\",\n",
    ")\n",
    "max_value, max_std = eta_two_lambda_zero_point_one.get_max_value_in_range(0, 1.48e6)\n",
    "print(max_value)\n",
    "print(max_std)"
   ]
  },
  {
   "cell_type": "code",
   "execution_count": 6,
   "metadata": {},
   "outputs": [
    {
     "name": "stdout",
     "output_type": "stream",
     "text": [
      "683.15\n",
      "14.059965623476208\n"
     ]
    }
   ],
   "source": [
    "eta_two_lambda_one = Line(\n",
    "    run_names=[\n",
    "        \"cool-frost-1308\",\n",
    "        \"fresh-flower-1320\",\n",
    "        \"swift-field-1332\",\n",
    "    ],\n",
    "    x_quantity=\"_step\",\n",
    "    y_quantity=\"eprew\",\n",
    "    color=\"blue\",\n",
    ")\n",
    "max_value, max_std = eta_two_lambda_one.get_max_value_in_range(0, 1.48e6)\n",
    "print(max_value)\n",
    "print(max_std)"
   ]
  },
  {
   "cell_type": "code",
   "execution_count": 8,
   "metadata": {},
   "outputs": [
    {
     "name": "stdout",
     "output_type": "stream",
     "text": [
      "0.0\n",
      "0.0\n"
     ]
    }
   ],
   "source": [
    "eta_two_lambda_ten = Line(\n",
    "    run_names=[\n",
    "        \"good-deluge-1311\",\n",
    "        \"super-forest-1321\",\n",
    "        \"feasible-sound-1333\",\n",
    "    ],\n",
    "    x_quantity=\"_step\",\n",
    "    y_quantity=\"eprew\",\n",
    "    color=\"blue\",\n",
    ")\n",
    "max_value, max_std = eta_two_lambda_ten.get_max_value_in_range(0, 1.48e6)\n",
    "print(max_value)\n",
    "print(max_std)"
   ]
  }
 ],
 "metadata": {
  "kernelspec": {
   "display_name": "Python 3",
   "language": "python",
   "name": "python3"
  },
  "language_info": {
   "codemirror_mode": {
    "name": "ipython",
    "version": 3
   },
   "file_extension": ".py",
   "mimetype": "text/x-python",
   "name": "python",
   "nbconvert_exporter": "python",
   "pygments_lexer": "ipython3",
   "version": "3.6.9"
  }
 },
 "nbformat": 4,
 "nbformat_minor": 4
}
