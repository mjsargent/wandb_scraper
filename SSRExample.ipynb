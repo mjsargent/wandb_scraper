{
 "cells": [
  {
   "cell_type": "code",
   "execution_count": 2,
   "metadata": {},
   "outputs": [],
   "source": [
    "import matplotlib.pyplot as plt\n",
    "from scraper import Line\n",
    "import wandb\n",
    "\n",
    "plt.rc('font', family='serif')\n",
    "plt.rc('xtick', labelsize='large')\n",
    "plt.rc('ytick', labelsize='large')"
   ]
  },
  {
   "cell_type": "code",
   "execution_count": 2,
   "metadata": {},
   "outputs": [],
   "source": [
    "# Hairpin\n",
    "api = wandb.Api()\n",
    "sweep = api.sweep(\"mjsargent/SRTabular/td8fzfg4\")\n",
    "#no_curiosity.plot_line(label=\"A2C\", color=\"#5FC6DB\")\n",
    "#curiosity.plot_line(label=\"MSE\", color=\"#338B4E\")\n",
    "#AMA.plot_line(label=\"AMA\", color=\"#95275F\")\n",
    "#RND.plot_line(label=\"RND\", color=\"#5882FA\")\n",
    "#disagreement.plot_line(label=\"Ensemble\", color=\"#FE9A2E\")\n",
    "\n",
    "run_names_tsr = []\n",
    "run_names_sr = []\n",
    "run_names_sq = []\n",
    "run_names_q = []\n",
    "run_names_sr_extended = []\n",
    "for run in sweep.runs:\n",
    "    if run.config[\"agent\"] == \"tsr\" and run.config[\"max_skips\"] == 7 and run.config[\"env\"] == \"hairpin\":\n",
    "        run_names_tsr.append(run.name)\n",
    "    if run.config[\"agent\"] == \"sr\" and run.config[\"max_skips\"] == 7 and run.config[\"env\"] == \"hairpin\":\n",
    "        run_names_sr.append(run.name)\n",
    "    if run.config[\"agent\"] == \"sq\" and run.config[\"max_skips\"] == 7 and run.config[\"env\"] == \"hairpin\":\n",
    "        run_names_sq.append(run.name)\n",
    "    if run.config[\"agent\"] == \"q\" and run.config[\"max_skips\"] == 7 and run.config[\"env\"] == \"hairpin\":\n",
    "        run_names_q.append(run.name) \n",
    "    if run.config[\"agent\"] == \"sr_extend\" and run.config[\"max_skips\"] == 7 and run.config[\"env\"] == \"hairpin\":\n",
    "        run_names_sr_extended.append(run.name) "
   ]
  },
  {
   "cell_type": "code",
   "execution_count": 9,
   "metadata": {},
   "outputs": [
    {
     "ename": "TypeError",
     "evalue": "'method' object is not subscriptable",
     "output_type": "error",
     "traceback": [
      "\u001b[0;31m---------------------------------------------------------------------------\u001b[0m",
      "\u001b[0;31mTypeError\u001b[0m                                 Traceback (most recent call last)",
      "\u001b[0;32m/tmp/ipykernel_32132/2209283934.py\u001b[0m in \u001b[0;36m<module>\u001b[0;34m\u001b[0m\n\u001b[1;32m     15\u001b[0m \u001b[0mrun_names_sr_extended\u001b[0m \u001b[0;34m=\u001b[0m \u001b[0;34m[\u001b[0m\u001b[0;34m]\u001b[0m\u001b[0;34m\u001b[0m\u001b[0;34m\u001b[0m\u001b[0m\n\u001b[1;32m     16\u001b[0m \u001b[0;32mfor\u001b[0m \u001b[0mrun\u001b[0m \u001b[0;32min\u001b[0m \u001b[0msweep\u001b[0m\u001b[0;34m.\u001b[0m\u001b[0mruns\u001b[0m\u001b[0;34m:\u001b[0m\u001b[0;34m\u001b[0m\u001b[0;34m\u001b[0m\u001b[0m\n\u001b[0;32m---> 17\u001b[0;31m     \u001b[0;32mif\u001b[0m \u001b[0mrun\u001b[0m\u001b[0;34m.\u001b[0m\u001b[0mhistory\u001b[0m\u001b[0;34m[\u001b[0m\u001b[0;34m'_step'\u001b[0m\u001b[0;34m]\u001b[0m\u001b[0;34m.\u001b[0m\u001b[0mvalues\u001b[0m\u001b[0;34m.\u001b[0m\u001b[0mtolist\u001b[0m\u001b[0;34m(\u001b[0m\u001b[0;34m)\u001b[0m\u001b[0;34m[\u001b[0m\u001b[0;34m-\u001b[0m\u001b[0;36m1\u001b[0m\u001b[0;34m]\u001b[0m \u001b[0;34m==\u001b[0m \u001b[0msweep\u001b[0m\u001b[0;34m.\u001b[0m\u001b[0mconfig\u001b[0m\u001b[0;34m[\u001b[0m\u001b[0;34m'parameters'\u001b[0m\u001b[0;34m]\u001b[0m\u001b[0;34m[\u001b[0m\u001b[0;34m'episodes'\u001b[0m\u001b[0;34m]\u001b[0m\u001b[0;34m[\u001b[0m\u001b[0;34m'values'\u001b[0m\u001b[0;34m]\u001b[0m\u001b[0;34m[\u001b[0m\u001b[0;36m0\u001b[0m\u001b[0;34m]\u001b[0m\u001b[0;34m:\u001b[0m\u001b[0;34m\u001b[0m\u001b[0;34m\u001b[0m\u001b[0m\n\u001b[0m\u001b[1;32m     18\u001b[0m         \u001b[0;32mif\u001b[0m \u001b[0mrun\u001b[0m\u001b[0;34m.\u001b[0m\u001b[0mconfig\u001b[0m\u001b[0;34m[\u001b[0m\u001b[0;34m\"agent\"\u001b[0m\u001b[0;34m]\u001b[0m \u001b[0;34m==\u001b[0m \u001b[0;34m\"tsr\"\u001b[0m \u001b[0;32mand\u001b[0m \u001b[0mrun\u001b[0m\u001b[0;34m.\u001b[0m\u001b[0mconfig\u001b[0m\u001b[0;34m[\u001b[0m\u001b[0;34m\"max_skips\"\u001b[0m\u001b[0;34m]\u001b[0m \u001b[0;34m==\u001b[0m \u001b[0;36m7\u001b[0m \u001b[0;32mand\u001b[0m \u001b[0mrun\u001b[0m\u001b[0;34m.\u001b[0m\u001b[0mconfig\u001b[0m\u001b[0;34m[\u001b[0m\u001b[0;34m\"env\"\u001b[0m\u001b[0;34m]\u001b[0m \u001b[0;34m==\u001b[0m \u001b[0;34m\"hairpinhard\"\u001b[0m\u001b[0;34m:\u001b[0m\u001b[0;34m\u001b[0m\u001b[0;34m\u001b[0m\u001b[0m\n\u001b[1;32m     19\u001b[0m             \u001b[0mrun_names_tsr\u001b[0m\u001b[0;34m.\u001b[0m\u001b[0mappend\u001b[0m\u001b[0;34m(\u001b[0m\u001b[0mrun\u001b[0m\u001b[0;34m.\u001b[0m\u001b[0mname\u001b[0m\u001b[0;34m)\u001b[0m\u001b[0;34m\u001b[0m\u001b[0;34m\u001b[0m\u001b[0m\n",
      "\u001b[0;31mTypeError\u001b[0m: 'method' object is not subscriptable"
     ]
    }
   ],
   "source": [
    "# Hairpin Hard\n",
    "api = wandb.Api()\n",
    "sweep = api.sweep(\"mjsargent/SRTabular/td8fzfg4\")\n",
    "\n",
    "#no_curiosity.plot_line(label=\"A2C\", color=\"#5FC6DB\")\n",
    "#curiosity.plot_line(label=\"MSE\", color=\"#338B4E\")\n",
    "#AMA.plot_line(label=\"AMA\", color=\"#95275F\")\n",
    "#RND.plot_line(label=\"RND\", color=\"#5882FA\")\n",
    "#disagreement.plot_line(label=\"Ensemble\", color=\"#FE9A2E\")\n",
    "\n",
    "run_names_tsr = []\n",
    "run_names_sr = []\n",
    "run_names_sq = []\n",
    "run_names_q = []\n",
    "run_names_sr_extended = []\n",
    "for run in sweep.runs:\n",
    "    last_step = run.history['_step'].values.tolist()[-1]\n",
    "    if run.history['_step'].values.tolist()[-1] == sweep.config['parameters']['episodes']['values'][0]:\n",
    "        if run.config[\"agent\"] == \"tsr\" and run.config[\"max_skips\"] == 7 and run.config[\"env\"] == \"hairpinhard\":\n",
    "            run_names_tsr.append(run.name)\n",
    "        if run.config[\"agent\"] == \"sr\" and run.config[\"max_skips\"] == 7 and run.config[\"env\"] == \"hairpinhard\":\n",
    "            run_names_sr.append(run.name)\n",
    "        if run.config[\"agent\"] == \"sq\" and run.config[\"max_skips\"] == 7 and run.config[\"env\"] == \"hairpinhard\":\n",
    "            run_names_sq.append(run.name)\n",
    "        if run.config[\"agent\"] == \"q\" and run.config[\"max_skips\"] == 7 and run.config[\"env\"] == \"hairpinhard\":\n",
    "            run_names_q.append(run.name) \n",
    "        if run.config[\"agent\"] == \"sr_extend\" and run.config[\"max_skips\"] == 7 and run.config[\"env\"] == \"hairpinhard\":\n",
    "            run_names_sr_extended.append(run.name) "
   ]
  },
  {
   "cell_type": "code",
   "execution_count": 15,
   "metadata": {},
   "outputs": [],
   "source": [
    "for run in sweep.runs:\n",
    "    last_step = run.history(samples = 100000)['_step'].values.tolist()[-1]\n",
    "    if last_step < 3000:\n",
    "    \n",
    "        print(run.name, last_step)\n",
    "    "
   ]
  },
  {
   "cell_type": "code",
   "execution_count": 4,
   "metadata": {},
   "outputs": [],
   "source": [
    "\n",
    "tsr = Line(\n",
    "    run_names= run_names_tsr,\n",
    "    x_quantity=\"_step\",\n",
    "    y_quantity=\"test_episode_reward:\",\n",
    "    color=\"#756AD9\",\n",
    "    project=\"SRTabular\",\n",
    "    entity=\"mjsargent\"\n",
    ")"
   ]
  },
  {
   "cell_type": "code",
   "execution_count": 5,
   "metadata": {},
   "outputs": [],
   "source": [
    "\n",
    "sr = Line(\n",
    "    run_names= run_names_sr,\n",
    "    x_quantity=\"_step\",\n",
    "    y_quantity=\"test_episode_reward:\",\n",
    "    color=\"#338B4E\",\n",
    "    project=\"SRTabular\",\n",
    "    entity=\"mjsargent\"\n",
    ")"
   ]
  },
  {
   "cell_type": "code",
   "execution_count": 6,
   "metadata": {},
   "outputs": [],
   "source": [
    "\n",
    "\n",
    "sq = Line(\n",
    "    run_names= run_names_sq,\n",
    "    x_quantity=\"_step\",\n",
    "    y_quantity=\"test_episode_reward:\",\n",
    "    color=\"#5882FA\",\n",
    "    project=\"SRTabular\",\n",
    "    entity=\"mjsargent\"\n",
    ")"
   ]
  },
  {
   "cell_type": "code",
   "execution_count": 6,
   "metadata": {},
   "outputs": [],
   "source": [
    "\n",
    "run_names_q = run_names_q[0:10]\n",
    "q = Line(\n",
    "    run_names= run_names_q,\n",
    "    x_quantity=\"_step\",\n",
    "    y_quantity=\"test_episode_reward:\",\n",
    "    color=\"#95275F\",\n",
    "    project=\"SRTabular\",\n",
    "    entity=\"mjsargent\"\n",
    ")"
   ]
  },
  {
   "cell_type": "code",
   "execution_count": 8,
   "metadata": {},
   "outputs": [],
   "source": [
    "\n",
    "\n",
    "sr_extended = Line(\n",
    "    run_names= run_names_sr_extended,\n",
    "    x_quantity=\"_step\",\n",
    "    y_quantity=\"test_episode_reward:\",\n",
    "    color=\"#FE9A2E\",\n",
    "    project=\"SRTabular\",\n",
    "    entity=\"mjsargent\"\n",
    ")"
   ]
  },
  {
   "cell_type": "code",
   "execution_count": 7,
   "metadata": {},
   "outputs": [
    {
     "data": {
      "image/png": "[encoded data removed]",
      "text/plain": [
       "<Figure size 432x288 with 1 Axes>"
      ]
     },
     "metadata": {
      "needs_background": "light"
     },
     "output_type": "display_data"
    }
   ],
   "source": [
    "# plot lines\n",
    "\n",
    "\n",
    "#tsr.plot_line(label=\"tsr\")\n",
    "#sq.plot_line(label=\"sq\")\n",
    "#sr.plot_line(label=\"sr\")\n",
    "q.plot_line(label=\"q\")\n",
    "#sr_extended.plot_line(label=\"sr_extended\")\n",
    "# make graph pretty\n",
    "plt.xlabel(\"Episodes\", fontsize=\"x-large\")\n",
    "plt.ylabel(\"Test Episode Reward\", fontsize=\"x-large\")\n",
    "plt.xlim(0,3000)\n",
    "plt.ylim(-1,1.2)\n",
    "plt.axvline(x=1500, color='grey', linestyle='--')\n",
    "plt.title(\"Test Episode Reward against Episodes\", fontsize=\"xx-large\")\n",
    "plt.tight_layout()\n",
    "plt.legend(fontsize=\"x-large\", ncol=2)\n",
    "plt.savefig(\"./figures/Test_Episode_Reward_HairpinHard_skip_7.png\", dpi=1200)\n",
    "plt.show()"
   ]
  },
  {
   "cell_type": "code",
   "execution_count": null,
   "metadata": {},
   "outputs": [],
   "source": []
  }
 ],
 "metadata": {
  "kernelspec": {
   "display_name": "Python 3 (ipykernel)",
   "language": "python",
   "name": "python3"
  },
  "language_info": {
   "codemirror_mode": {
    "name": "ipython",
    "version": 3
   },
   "file_extension": ".py",
   "mimetype": "text/x-python",
   "name": "python",
   "nbconvert_exporter": "python",
   "pygments_lexer": "ipython3",
   "version": "3.8.5"
  }
 },
 "nbformat": 4,
 "nbformat_minor": 4
}
