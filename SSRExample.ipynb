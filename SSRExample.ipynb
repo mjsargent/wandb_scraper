{
 "cells": [
  {
   "cell_type": "code",
   "execution_count": 1,
   "metadata": {},
   "outputs": [],
   "source": [
    "import matplotlib.pyplot as plt\n",
    "from scraper import Line\n",
    "import wandb\n",
    "\n",
    "plt.rc('font', family='serif')\n",
    "plt.rc('xtick', labelsize='large')\n",
    "plt.rc('ytick', labelsize='large')"
   ]
  },
  {
   "cell_type": "code",
   "execution_count": 2,
   "metadata": {},
   "outputs": [],
   "source": [
    "# Hairpin\n",
    "api = wandb.Api()\n",
    "sweep = api.sweep(\"mjsargent/SRTabular/td8fzfg4\")\n",
    "#no_curiosity.plot_line(label=\"A2C\", color=\"#5FC6DB\")\n",
    "#curiosity.plot_line(label=\"MSE\", color=\"#338B4E\")\n",
    "#AMA.plot_line(label=\"AMA\", color=\"#95275F\")\n",
    "#RND.plot_line(label=\"RND\", color=\"#5882FA\")\n",
    "#disagreement.plot_line(label=\"Ensemble\", color=\"#FE9A2E\")\n",
    "\n",
    "run_names_tsr = []\n",
    "run_names_sr = []\n",
    "run_names_sq = []\n",
    "run_names_q = []\n",
    "run_names_sr_extended = []\n",
    "for run in sweep.runs:\n",
    "    if run.config[\"agent\"] == \"tsr\" and run.config[\"max_skips\"] == 7 and run.config[\"env\"] == \"hairpin\":\n",
    "        run_names_tsr.append(run.name)\n",
    "    if run.config[\"agent\"] == \"sr\" and run.config[\"max_skips\"] == 7 and run.config[\"env\"] == \"hairpin\":\n",
    "        run_names_sr.append(run.name)\n",
    "    if run.config[\"agent\"] == \"sq\" and run.config[\"max_skips\"] == 7 and run.config[\"env\"] == \"hairpin\":\n",
    "        run_names_sq.append(run.name)\n",
    "    if run.config[\"agent\"] == \"q\" and run.config[\"max_skips\"] == 7 and run.config[\"env\"] == \"hairpin\":\n",
    "        run_names_q.append(run.name) \n",
    "    if run.config[\"agent\"] == \"sr_extend\" and run.config[\"max_skips\"] == 7 and run.config[\"env\"] == \"hairpin\":\n",
    "        run_names_sr_extended.append(run.name) "
   ]
  },
  {
   "cell_type": "code",
   "execution_count": 18,
   "metadata": {},
   "outputs": [
    {
     "name": "stderr",
     "output_type": "stream",
     "text": [
      "\u001b[34m\u001b[1mwandb\u001b[0m: \u001b[33mWARNING\u001b[0m A graphql request initiated by the public wandb API timed out (timeout=9 sec). Create a new API with an integer timeout larger than 9, e.g., `api = wandb.Api(timeout=19)` to increase the graphql timeout.\n",
      "\u001b[34m\u001b[1mwandb\u001b[0m: \u001b[33mWARNING\u001b[0m A graphql request initiated by the public wandb API timed out (timeout=9 sec). Create a new API with an integer timeout larger than 9, e.g., `api = wandb.Api(timeout=19)` to increase the graphql timeout.\n",
      "\u001b[34m\u001b[1mwandb\u001b[0m: \u001b[33mWARNING\u001b[0m A graphql request initiated by the public wandb API timed out (timeout=9 sec). Create a new API with an integer timeout larger than 9, e.g., `api = wandb.Api(timeout=19)` to increase the graphql timeout.\n"
     ]
    },
    {
     "ename": "NameError",
     "evalue": "name 'pd' is not defined",
     "output_type": "error",
     "traceback": [
      "\u001b[0;31m---------------------------------------------------------------------------\u001b[0m",
      "\u001b[0;31mNameError\u001b[0m                                 Traceback (most recent call last)",
      "\u001b[0;32m/tmp/ipykernel_890647/1248860475.py\u001b[0m in \u001b[0;36m<module>\u001b[0;34m\u001b[0m\n\u001b[1;32m     16\u001b[0m     \u001b[0mhistory_list\u001b[0m\u001b[0;34m.\u001b[0m\u001b[0mappend\u001b[0m\u001b[0;34m(\u001b[0m\u001b[0mrun\u001b[0m\u001b[0;34m.\u001b[0m\u001b[0mhistory\u001b[0m\u001b[0;34m(\u001b[0m\u001b[0msamples\u001b[0m \u001b[0;34m=\u001b[0m \u001b[0;36m20000\u001b[0m\u001b[0;34m)\u001b[0m\u001b[0;34m)\u001b[0m\u001b[0;34m\u001b[0m\u001b[0;34m\u001b[0m\u001b[0m\n\u001b[1;32m     17\u001b[0m \u001b[0;34m\u001b[0m\u001b[0m\n\u001b[0;32m---> 18\u001b[0;31m runs_df = pd.DataFrame({\n\u001b[0m\u001b[1;32m     19\u001b[0m     \u001b[0;34m\"summary\"\u001b[0m\u001b[0;34m:\u001b[0m \u001b[0msummary_list\u001b[0m\u001b[0;34m,\u001b[0m\u001b[0;34m\u001b[0m\u001b[0;34m\u001b[0m\u001b[0m\n\u001b[1;32m     20\u001b[0m     \u001b[0;34m\"config\"\u001b[0m\u001b[0;34m:\u001b[0m \u001b[0mconfig_list\u001b[0m\u001b[0;34m,\u001b[0m\u001b[0;34m\u001b[0m\u001b[0;34m\u001b[0m\u001b[0m\n",
      "\u001b[0;31mNameError\u001b[0m: name 'pd' is not defined"
     ]
    }
   ],
   "source": [
    "summary_list, config_list, name_list, history_list = [], [], [], []\n",
    "for run in sweep.runs: \n",
    "    # .summary contains the output keys/values for metrics like accuracy.\n",
    "    #  We call ._json_dict to omit large files \n",
    "    summary_list.append(run.summary._json_dict)\n",
    "\n",
    "    # .config contains the hyperparameters.\n",
    "    #  We remove special values that start with _.\n",
    "    config_list.append(\n",
    "        {k: v for k,v in run.config.items()\n",
    "         if not k.startswith('_')})\n",
    "\n",
    "    # .name is the human-readable name of the run.\n",
    "    name_list.append(run.name)\n",
    "    \n",
    "    history_list.append(run.history(samples = 20000))\n",
    "\n",
    "runs_df = pd.DataFrame({\n",
    "    \"summary\": summary_list,\n",
    "    \"config\": config_list,\n",
    "    \"name\": name_list,\n",
    "    \"history\": history_list\n",
    "    })\n",
    "\n",
    "runs_df.to_csv(\"project.csv\")"
   ]
  },
  {
   "cell_type": "code",
   "execution_count": 19,
   "metadata": {},
   "outputs": [],
   "source": [
    "import pandas as pd\n",
    "runs_df = pd.DataFrame({\n",
    "    \"summary\": summary_list,\n",
    "    \"config\": config_list,\n",
    "    \"name\": name_list,\n",
    "    \"history\": history_list\n",
    "    })\n",
    "\n",
    "runs_df.to_csv(\"project.csv\")"
   ]
  },
  {
   "cell_type": "code",
   "execution_count": 7,
   "metadata": {},
   "outputs": [],
   "source": [
    "# Hairpin Hard\n",
    "api = wandb.Api()\n",
    "sweep = api.sweep(\"mjsargent/SRTabular/td8fzfg4\")\n",
    "\n",
    "#no_curiosity.plot_line(label=\"A2C\", color=\"#5FC6DB\")\n",
    "#curiosity.plot_line(label=\"MSE\", color=\"#338B4E\")\n",
    "#AMA.plot_line(label=\"AMA\", color=\"#95275F\")\n",
    "#RND.plot_line(label=\"RND\", color=\"#5882FA\")\n",
    "#disagreement.plot_line(label=\"Ensemble\", color=\"#FE9A2E\")\n",
    "\n",
    "run_names_tsr = []\n",
    "run_names_sr = []\n",
    "run_names_sq = []\n",
    "run_names_q = []\n",
    "run_names_sr_extended = []\n",
    "for run in sweep.runs:\n",
    "    #last_step = run.history['_step'].values.tolist()[-1]\n",
    "    #if last_step == sweep.config['parameters']['episodes']['values'][0]:\n",
    "    if run.config[\"agent\"] == \"tsr\" and run.config[\"max_skips\"] == 7 and run.config[\"env\"] == \"hairpinhard\":\n",
    "        run_names_tsr.append(run.name)\n",
    "    if run.config[\"agent\"] == \"sr\" and run.config[\"max_skips\"] == 7 and run.config[\"env\"] == \"hairpinhard\":\n",
    "        run_names_sr.append(run.name)\n",
    "    if run.config[\"agent\"] == \"sq\" and run.config[\"max_skips\"] == 7 and run.config[\"env\"] == \"hairpinhard\":\n",
    "        run_names_sq.append(run.name)\n",
    "    if run.config[\"agent\"] == \"q\" and run.config[\"max_skips\"] == 7 and run.config[\"env\"] == \"hairpinhard\":\n",
    "        run_names_q.append(run.name) \n",
    "    if run.config[\"agent\"] == \"sr_extend\" and run.config[\"max_skips\"] == 7 and run.config[\"env\"] == \"hairpinhard\":\n",
    "        run_names_sr_extended.append(run.name) "
   ]
  },
  {
   "cell_type": "code",
   "execution_count": 8,
   "metadata": {},
   "outputs": [
    {
     "name": "stdout",
     "output_type": "stream",
     "text": [
      "['vague-sweep-674', 'royal-sweep-675', 'grateful-sweep-673', 'fearless-sweep-671', 'smooth-sweep-672', 'stilted-sweep-670', 'robust-sweep-669', 'unique-sweep-667', 'restful-sweep-668', 'grateful-sweep-666', 'divine-sweep-665', 'proud-sweep-664', 'giddy-sweep-663', 'crisp-sweep-662', 'sandy-sweep-661', 'proud-sweep-660', 'sandy-sweep-659', 'dainty-sweep-655', 'skilled-sweep-658', 'rose-sweep-657', 'fancy-sweep-656', 'cosmic-sweep-654', 'whole-sweep-653', 'celestial-sweep-652', 'balmy-sweep-651', 'vague-sweep-650', 'clean-sweep-648', 'sage-sweep-649', 'giddy-sweep-647', 'eager-sweep-642', 'wise-sweep-645', 'classic-sweep-640', 'happy-sweep-643', 'fiery-sweep-639', 'sunny-sweep-641', 'cosmic-sweep-644', 'driven-sweep-646', 'vocal-sweep-631', 'snowy-sweep-635', 'twilight-sweep-626', 'firm-sweep-629', 'stellar-sweep-633', 'ancient-sweep-638', 'deep-sweep-634', 'kind-sweep-636', 'scarlet-sweep-628', 'vivid-sweep-637', 'fluent-sweep-630', 'stoic-sweep-627', 'sweepy-sweep-632']\n"
     ]
    }
   ],
   "source": [
    "#for run in sweep.runs:\n",
    "    #last_step = run.history(samples = 100000)['_step'].values.tolist()[-1]\n",
    "    #if last_step < 3000:\n",
    "    \n",
    "       # print(run.name, last_step)\n",
    "print(run_names_q)"
   ]
  },
  {
   "cell_type": "code",
   "execution_count": 4,
   "metadata": {},
   "outputs": [],
   "source": [
    "\n",
    "tsr = Line(\n",
    "    run_names= run_names_tsr,\n",
    "    x_quantity=\"_step\",\n",
    "    y_quantity=\"test_episode_reward:\",\n",
    "    color=\"#756AD9\",\n",
    "    project=\"SRTabular\",\n",
    "    entity=\"mjsargent\"\n",
    ")"
   ]
  },
  {
   "cell_type": "code",
   "execution_count": 5,
   "metadata": {},
   "outputs": [],
   "source": [
    "\n",
    "sr = Line(\n",
    "    run_names= run_names_sr,\n",
    "    x_quantity=\"_step\",\n",
    "    y_quantity=\"test_episode_reward:\",\n",
    "    color=\"#338B4E\",\n",
    "    project=\"SRTabular\",\n",
    "    entity=\"mjsargent\"\n",
    ")"
   ]
  },
  {
   "cell_type": "code",
   "execution_count": 6,
   "metadata": {},
   "outputs": [],
   "source": [
    "\n",
    "\n",
    "sq = Line(\n",
    "    run_names= run_names_sq,\n",
    "    x_quantity=\"_step\",\n",
    "    y_quantity=\"test_episode_reward:\",\n",
    "    color=\"#5882FA\",\n",
    "    project=\"SRTabular\",\n",
    "    entity=\"mjsargent\"\n",
    ")"
   ]
  },
  {
   "cell_type": "code",
   "execution_count": 28,
   "metadata": {},
   "outputs": [
    {
     "name": "stderr",
     "output_type": "stream",
     "text": [
      "\u001b[34m\u001b[1mwandb\u001b[0m: \u001b[33mWARNING\u001b[0m A graphql request initiated by the public wandb API timed out (timeout=9 sec). Create a new API with an integer timeout larger than 9, e.g., `api = wandb.Api(timeout=19)` to increase the graphql timeout.\n",
      "\u001b[34m\u001b[1mwandb\u001b[0m: \u001b[33mWARNING\u001b[0m A graphql request initiated by the public wandb API timed out (timeout=9 sec). Create a new API with an integer timeout larger than 9, e.g., `api = wandb.Api(timeout=19)` to increase the graphql timeout.\n",
      "\u001b[34m\u001b[1mwandb\u001b[0m: \u001b[33mWARNING\u001b[0m A graphql request initiated by the public wandb API timed out (timeout=9 sec). Create a new API with an integer timeout larger than 9, e.g., `api = wandb.Api(timeout=19)` to increase the graphql timeout.\n",
      "\u001b[34m\u001b[1mwandb\u001b[0m: \u001b[33mWARNING\u001b[0m A graphql request initiated by the public wandb API timed out (timeout=9 sec). Create a new API with an integer timeout larger than 9, e.g., `api = wandb.Api(timeout=19)` to increase the graphql timeout.\n",
      "\u001b[34m\u001b[1mwandb\u001b[0m: \u001b[33mWARNING\u001b[0m A graphql request initiated by the public wandb API timed out (timeout=9 sec). Create a new API with an integer timeout larger than 9, e.g., `api = wandb.Api(timeout=19)` to increase the graphql timeout.\n",
      "\u001b[34m\u001b[1mwandb\u001b[0m: \u001b[33mWARNING\u001b[0m A graphql request initiated by the public wandb API timed out (timeout=9 sec). Create a new API with an integer timeout larger than 9, e.g., `api = wandb.Api(timeout=19)` to increase the graphql timeout.\n",
      "\u001b[34m\u001b[1mwandb\u001b[0m: \u001b[33mWARNING\u001b[0m A graphql request initiated by the public wandb API timed out (timeout=9 sec). Create a new API with an integer timeout larger than 9, e.g., `api = wandb.Api(timeout=19)` to increase the graphql timeout.\n"
     ]
    }
   ],
   "source": [
    "\n",
    "#run_names_q = run_names_q[0:10]\n",
    "q = Line(\n",
    "    run_names= run_names_q[28:30],\n",
    "    x_quantity=\"_step\",\n",
    "    y_quantity=\"test_episode_reward:\",\n",
    "    color=\"#95275F\",\n",
    "    project=\"SRTabular\",\n",
    "    entity=\"mjsargent\"\n",
    ")"
   ]
  },
  {
   "cell_type": "code",
   "execution_count": 8,
   "metadata": {},
   "outputs": [],
   "source": [
    "\n",
    "\n",
    "sr_extended = Line(\n",
    "    run_names= run_names_sr_extended,\n",
    "    x_quantity=\"_step\",\n",
    "    y_quantity=\"test_episode_reward:\",\n",
    "    color=\"#FE9A2E\",\n",
    "    project=\"SRTabular\",\n",
    "    entity=\"mjsargent\"\n",
    ")"
   ]
  },
  {
   "cell_type": "code",
   "execution_count": 32,
   "metadata": {},
   "outputs": [
    {
     "name": "stdout",
     "output_type": "stream",
     "text": [
      "['giddy-sweep-647', 'eager-sweep-642']\n"
     ]
    },
    {
     "data": {
      "image/png": "[encoded data removed]",
      "text/plain": [
       "<Figure size 432x288 with 1 Axes>"
      ]
     },
     "metadata": {
      "needs_background": "light"
     },
     "output_type": "display_data"
    }
   ],
   "source": [
    "# plot lines\n",
    "print(run_names_q[28:30])\n",
    "\n",
    "#tsr.plot_line(label=\"tsr\")\n",
    "#sq.plot_line(label=\"sq\")\n",
    "#sr.plot_line(label=\"sr\")\n",
    "q.plot_line(label=\"q\")\n",
    "#sr_extended.plot_line(label=\"sr_extended\")\n",
    "# make graph pretty\n",
    "plt.xlabel(\"Episodes\", fontsize=\"x-large\")\n",
    "plt.ylabel(\"Test Episode Reward\", fontsize=\"x-large\")\n",
    "plt.xlim(0,3000)\n",
    "plt.ylim(-1,1.2)\n",
    "plt.axvline(x=1500, color='grey', linestyle='--')\n",
    "plt.title(\"Test Episode Reward against Episodes\", fontsize=\"xx-large\")\n",
    "plt.tight_layout()\n",
    "plt.legend(fontsize=\"x-large\", ncol=2)\n",
    "plt.savefig(\"./figures/Test_Episode_Reward_HairpinHard_skip_7.png\", dpi=1200)\n",
    "plt.show()"
   ]
  },
  {
   "cell_type": "code",
   "execution_count": null,
   "metadata": {},
   "outputs": [],
   "source": []
  }
 ],
 "metadata": {
  "kernelspec": {
   "display_name": "Python 3",
   "language": "python",
   "name": "python3"
  },
  "language_info": {
   "codemirror_mode": {
    "name": "ipython",
    "version": 3
   },
   "file_extension": ".py",
   "mimetype": "text/x-python",
   "name": "python",
   "nbconvert_exporter": "python",
   "pygments_lexer": "ipython3",
   "version": "3.7.10"
  }
 },
 "nbformat": 4,
 "nbformat_minor": 4
}
